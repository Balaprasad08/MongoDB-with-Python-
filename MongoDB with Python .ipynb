{
 "cells": [
  {
   "cell_type": "markdown",
   "metadata": {},
   "source": [
    "## MongoDB With  Python "
   ]
  },
  {
   "cell_type": "code",
   "execution_count": 4,
   "metadata": {},
   "outputs": [],
   "source": [
    "# pip install pymongo"
   ]
  },
  {
   "cell_type": "code",
   "execution_count": 5,
   "metadata": {},
   "outputs": [],
   "source": [
    "import pymongo"
   ]
  },
  {
   "cell_type": "code",
   "execution_count": 6,
   "metadata": {},
   "outputs": [],
   "source": [
    "client=pymongo.MongoClient(\"mongodb://127.0.0.1:27017/\")"
   ]
  },
  {
   "cell_type": "code",
   "execution_count": 7,
   "metadata": {},
   "outputs": [],
   "source": [
    "mydb=client['Employee']"
   ]
  },
  {
   "cell_type": "code",
   "execution_count": 8,
   "metadata": {},
   "outputs": [],
   "source": [
    "information=mydb.employeeinfo"
   ]
  },
  {
   "cell_type": "code",
   "execution_count": 11,
   "metadata": {},
   "outputs": [],
   "source": [
    "record={\n",
    "        'firstname':'Balaprasad',\n",
    "        'lastname':'Garudkar',\n",
    "        'depatment':'Data_Scientist'\n",
    "        }"
   ]
  },
  {
   "cell_type": "markdown",
   "metadata": {},
   "source": [
    "#### CRUD Operations in MongoDB"
   ]
  },
  {
   "cell_type": "markdown",
   "metadata": {},
   "source": [
    "### Insert/Create Collections"
   ]
  },
  {
   "cell_type": "code",
   "execution_count": 12,
   "metadata": {},
   "outputs": [
    {
     "data": {
      "text/plain": [
       "<pymongo.results.InsertOneResult at 0x222db151840>"
      ]
     },
     "execution_count": 12,
     "metadata": {},
     "output_type": "execute_result"
    }
   ],
   "source": [
    "information.insert_one(record)"
   ]
  },
  {
   "cell_type": "code",
   "execution_count": 15,
   "metadata": {},
   "outputs": [],
   "source": [
    "records=[{'firstname':'Balaprasad',\n",
    "        'lastname':'Garudkar',\n",
    "        'depatment':'Data_Scientist'\n",
    "         },{'firstname':'Pravin',\n",
    "        'lastname':'Nirdi',\n",
    "        'depatment':'SAP'\n",
    "         },{'firstname':'Sanket',\n",
    "        'lastname':'Pawar',\n",
    "        'depatment':'ABAP'\n",
    "         },{'firstname':'Sandy',\n",
    "        'lastname':'Smith',\n",
    "        'depatment':'Devloper'\n",
    "         },{'firstname':'Shailesh',\n",
    "        'lastname':'Kirti',\n",
    "        'depatment':'Analitycs'\n",
    "         }]"
   ]
  },
  {
   "cell_type": "code",
   "execution_count": 16,
   "metadata": {},
   "outputs": [
    {
     "data": {
      "text/plain": [
       "<pymongo.results.InsertManyResult at 0x222dad43c80>"
      ]
     },
     "execution_count": 16,
     "metadata": {},
     "output_type": "execute_result"
    }
   ],
   "source": [
    "information.insert_many(records)"
   ]
  },
  {
   "cell_type": "code",
   "execution_count": 39,
   "metadata": {},
   "outputs": [],
   "source": [
    "records1=[{'First Name':'Richard','Last Name':'William','ID Number':123,'Job Title':'Analitycs','Department':'Data science','Location':'USA','Salary':22000},\n",
    "         {'First Name':'Daniel','Last Name':'Albert','ID Number':133,'Job Title':'ABAP','Department':'SAP','Location':'Japan','Salary':123000},\n",
    "         {'First Name':'Mukesh','Last Name':'Garudkar','ID Number':143,'Job Title':'Data Scientist','Data Science':'SAP','Location':'India','Salary':562000},\n",
    "         {'First Name':'Harvey','Last Name':'Carl','ID Number':153,'Job Title':'Devloper','Department':'Oracle','Location':'Canada','Salary':92000},\n",
    "         {'First Name':'Jim','Last Name':'Henry','ID Number':163,'Job Title':'HANA','Department':'SAP','Location':'New York','Salary':456000},\n",
    "         {'First Name':'Leo','Last Name':'Walter','ID Number':173,'Job Title':'Software','Department':'Engineering','Location':'Shrilanka','Salary':82000},\n",
    "         {'First Name':'Edward','Last Name':'Frederick','ID Number':183,'Job Title':'Data Engineer','Department':'Data science','Location':'England','Salary':382000},\n",
    "         {'First Name':'Willie','Last Name':'George','ID Number':193,'Job Title':'Devloper','Department':'Java','Location':'South Africa','Salary':242000},\n",
    "         {'First Name':'Dinesh','Last Name':'Tyagi','ID Number':111,'Job Title':'devloper','Department':'Oracle','Location':'India','Salary':322000},\n",
    "         {'First Name':'Richard','Last Name':'Lee','ID Number':129,'Job Title':'Analitycs','Department':'Data science','Location':'Australia','Salary':122000}]"
   ]
  },
  {
   "cell_type": "code",
   "execution_count": 40,
   "metadata": {},
   "outputs": [
    {
     "data": {
      "text/plain": [
       "<pymongo.results.InsertManyResult at 0x222db059040>"
      ]
     },
     "execution_count": 40,
     "metadata": {},
     "output_type": "execute_result"
    }
   ],
   "source": [
    "information.insert_many(records1)"
   ]
  },
  {
   "cell_type": "markdown",
   "metadata": {},
   "source": [
    "## Read/Find Operation"
   ]
  },
  {
   "cell_type": "code",
   "execution_count": 22,
   "metadata": {},
   "outputs": [
    {
     "data": {
      "text/plain": [
       "{'_id': ObjectId('5fe2cefb1fc67c555239c055'),\n",
       " 'firstname': 'Pravin',\n",
       " 'lastname': 'Nirdi',\n",
       " 'depatment': 'SAP'}"
      ]
     },
     "execution_count": 22,
     "metadata": {},
     "output_type": "execute_result"
    }
   ],
   "source": [
    "# Simple way of Querying\n",
    "information.find_one({})"
   ]
  },
  {
   "cell_type": "code",
   "execution_count": 25,
   "metadata": {},
   "outputs": [
    {
     "data": {
      "text/plain": [
       "<pymongo.cursor.Cursor at 0x222daf1f070>"
      ]
     },
     "execution_count": 25,
     "metadata": {},
     "output_type": "execute_result"
    }
   ],
   "source": [
    "information.find()"
   ]
  },
  {
   "cell_type": "code",
   "execution_count": 27,
   "metadata": {},
   "outputs": [
    {
     "name": "stdout",
     "output_type": "stream",
     "text": [
      "{'_id': ObjectId('5fe2cefb1fc67c555239c055'), 'firstname': 'Pravin', 'lastname': 'Nirdi', 'depatment': 'SAP'}\n",
      "{'_id': ObjectId('5fe2cefb1fc67c555239c056'), 'firstname': 'Sanket', 'lastname': 'Pawar', 'depatment': 'ABAP'}\n",
      "{'_id': ObjectId('5fe2cefb1fc67c555239c057'), 'firstname': 'Sandy', 'lastname': 'Smith', 'depatment': 'Devloper'}\n",
      "{'_id': ObjectId('5fe2cefb1fc67c555239c058'), 'firstname': 'Shailesh', 'lastname': 'Kirti', 'depatment': 'Analitycs'}\n"
     ]
    }
   ],
   "source": [
    "for i in information.find({}):\n",
    "    print(i)"
   ]
  },
  {
   "cell_type": "code",
   "execution_count": 29,
   "metadata": {},
   "outputs": [
    {
     "name": "stdout",
     "output_type": "stream",
     "text": [
      "{'_id': ObjectId('5fe2cefb1fc67c555239c055'), 'firstname': 'Pravin', 'lastname': 'Nirdi', 'depatment': 'SAP'}\n"
     ]
    }
   ],
   "source": [
    "for i in information.find({'firstname':'Pravin'}):\n",
    "    print(i)"
   ]
  },
  {
   "cell_type": "code",
   "execution_count": 31,
   "metadata": {},
   "outputs": [
    {
     "name": "stdout",
     "output_type": "stream",
     "text": [
      "{'_id': ObjectId('5fe2cefb1fc67c555239c057'), 'firstname': 'Sandy', 'lastname': 'Smith', 'depatment': 'Devloper'}\n"
     ]
    }
   ],
   "source": [
    "for i in information.find({'firstname':'Sandy'}):\n",
    "    print(i)"
   ]
  },
  {
   "cell_type": "code",
   "execution_count": 34,
   "metadata": {},
   "outputs": [
    {
     "name": "stdout",
     "output_type": "stream",
     "text": [
      "{'_id': ObjectId('5fe2cefb1fc67c555239c056'), 'firstname': 'Sanket', 'lastname': 'Pawar', 'depatment': 'ABAP'}\n",
      "{'_id': ObjectId('5fe2cefb1fc67c555239c058'), 'firstname': 'Shailesh', 'lastname': 'Kirti', 'depatment': 'Analitycs'}\n"
     ]
    }
   ],
   "source": [
    "# Query documents using query Operators($in,$lt,$gt,$lte,$gte)\n",
    "for i in information.find({'depatment':{'$in':['Analitycs','ABAP']}}):\n",
    "    print(i)"
   ]
  },
  {
   "cell_type": "code",
   "execution_count": 35,
   "metadata": {},
   "outputs": [
    {
     "name": "stdout",
     "output_type": "stream",
     "text": [
      "{'_id': ObjectId('5fe2cefb1fc67c555239c055'), 'firstname': 'Pravin', 'lastname': 'Nirdi', 'depatment': 'SAP'}\n",
      "{'_id': ObjectId('5fe2cefb1fc67c555239c056'), 'firstname': 'Sanket', 'lastname': 'Pawar', 'depatment': 'ABAP'}\n",
      "{'_id': ObjectId('5fe2cefb1fc67c555239c058'), 'firstname': 'Shailesh', 'lastname': 'Kirti', 'depatment': 'Analitycs'}\n"
     ]
    }
   ],
   "source": [
    "for i in information.find({'lastname':{'$in':['Nirdi','Pawar','Kirti']}}):\n",
    "    print(i)"
   ]
  },
  {
   "cell_type": "code",
   "execution_count": 41,
   "metadata": {},
   "outputs": [
    {
     "name": "stdout",
     "output_type": "stream",
     "text": [
      "{'_id': ObjectId('5fe2cefb1fc67c555239c055'), 'firstname': 'Pravin', 'lastname': 'Nirdi', 'depatment': 'SAP'}\n",
      "{'_id': ObjectId('5fe2cefb1fc67c555239c056'), 'firstname': 'Sanket', 'lastname': 'Pawar', 'depatment': 'ABAP'}\n",
      "{'_id': ObjectId('5fe2cefb1fc67c555239c057'), 'firstname': 'Sandy', 'lastname': 'Smith', 'depatment': 'Devloper'}\n",
      "{'_id': ObjectId('5fe2cefb1fc67c555239c058'), 'firstname': 'Shailesh', 'lastname': 'Kirti', 'depatment': 'Analitycs'}\n",
      "{'_id': ObjectId('5fe2e11b1fc67c555239c059'), 'First Name': 'Richard', 'Last Name': 'William', 'ID Number': 123, 'Job Title': 'Analitycs', 'Department': 'Data science', 'Location': 'USA', 'Salary': 22000}\n",
      "{'_id': ObjectId('5fe2e11b1fc67c555239c05a'), 'First Name': 'Daniel', 'Last Name': 'Albert', 'ID Number': 133, 'Job Title': 'ABAP', 'Department': 'SAP', 'Location': 'Japan', 'Salary': 123000}\n",
      "{'_id': ObjectId('5fe2e11b1fc67c555239c05b'), 'First Name': 'Mukesh', 'Last Name': 'Garudkar', 'ID Number': 143, 'Job Title': 'Data Scientist', 'Data Science': 'SAP', 'Location': 'India', 'Salary': 562000}\n",
      "{'_id': ObjectId('5fe2e11b1fc67c555239c05c'), 'First Name': 'Harvey', 'Last Name': 'Carl', 'ID Number': 153, 'Job Title': 'Devloper', 'Department': 'Oracle', 'Location': 'Canada', 'Salary': 92000}\n",
      "{'_id': ObjectId('5fe2e11b1fc67c555239c05d'), 'First Name': 'Jim', 'Last Name': 'Henry', 'ID Number': 163, 'Job Title': 'HANA', 'Department': 'SAP', 'Location': 'New York', 'Salary': 456000}\n",
      "{'_id': ObjectId('5fe2e11b1fc67c555239c05e'), 'First Name': 'Leo', 'Last Name': 'Walter', 'ID Number': 173, 'Job Title': 'Software', 'Department': 'Engineering', 'Location': 'Shrilanka', 'Salary': 82000}\n",
      "{'_id': ObjectId('5fe2e11b1fc67c555239c05f'), 'First Name': 'Edward', 'Last Name': 'Frederick', 'ID Number': 183, 'Job Title': 'Data Engineer', 'Department': 'Data science', 'Location': 'England', 'Salary': 382000}\n",
      "{'_id': ObjectId('5fe2e11b1fc67c555239c060'), 'First Name': 'Willie', 'Last Name': 'George', 'ID Number': 193, 'Job Title': 'Devloper', 'Department': 'Java', 'Location': 'South Africa', 'Salary': 242000}\n",
      "{'_id': ObjectId('5fe2e11b1fc67c555239c061'), 'First Name': 'Dinesh', 'Last Name': 'Tyagi', 'ID Number': 111, 'Job Title': 'devloper', 'Department': 'Oracle', 'Location': 'India', 'Salary': 322000}\n",
      "{'_id': ObjectId('5fe2e11b1fc67c555239c062'), 'First Name': 'Richard', 'Last Name': 'Lee', 'ID Number': 129, 'Job Title': 'Analitycs', 'Department': 'Data science', 'Location': 'Australia', 'Salary': 122000}\n"
     ]
    }
   ],
   "source": [
    "for i in information.find({}):\n",
    "    print(i)"
   ]
  },
  {
   "cell_type": "code",
   "execution_count": 42,
   "metadata": {},
   "outputs": [
    {
     "name": "stdout",
     "output_type": "stream",
     "text": [
      "{'_id': ObjectId('5fe2e11b1fc67c555239c05b'), 'First Name': 'Mukesh', 'Last Name': 'Garudkar', 'ID Number': 143, 'Job Title': 'Data Scientist', 'Data Science': 'SAP', 'Location': 'India', 'Salary': 562000}\n",
      "{'_id': ObjectId('5fe2e11b1fc67c555239c05d'), 'First Name': 'Jim', 'Last Name': 'Henry', 'ID Number': 163, 'Job Title': 'HANA', 'Department': 'SAP', 'Location': 'New York', 'Salary': 456000}\n",
      "{'_id': ObjectId('5fe2e11b1fc67c555239c05f'), 'First Name': 'Edward', 'Last Name': 'Frederick', 'ID Number': 183, 'Job Title': 'Data Engineer', 'Department': 'Data science', 'Location': 'England', 'Salary': 382000}\n",
      "{'_id': ObjectId('5fe2e11b1fc67c555239c060'), 'First Name': 'Willie', 'Last Name': 'George', 'ID Number': 193, 'Job Title': 'Devloper', 'Department': 'Java', 'Location': 'South Africa', 'Salary': 242000}\n",
      "{'_id': ObjectId('5fe2e11b1fc67c555239c061'), 'First Name': 'Dinesh', 'Last Name': 'Tyagi', 'ID Number': 111, 'Job Title': 'devloper', 'Department': 'Oracle', 'Location': 'India', 'Salary': 322000}\n"
     ]
    }
   ],
   "source": [
    " for i in information.find({\"Salary\":{'$gt':123000}}):\n",
    "        print(i)"
   ]
  },
  {
   "cell_type": "code",
   "execution_count": 43,
   "metadata": {},
   "outputs": [
    {
     "name": "stdout",
     "output_type": "stream",
     "text": [
      "{'_id': ObjectId('5fe2e11b1fc67c555239c05b'), 'First Name': 'Mukesh', 'Last Name': 'Garudkar', 'ID Number': 143, 'Job Title': 'Data Scientist', 'Data Science': 'SAP', 'Location': 'India', 'Salary': 562000}\n",
      "{'_id': ObjectId('5fe2e11b1fc67c555239c061'), 'First Name': 'Dinesh', 'Last Name': 'Tyagi', 'ID Number': 111, 'Job Title': 'devloper', 'Department': 'Oracle', 'Location': 'India', 'Salary': 322000}\n"
     ]
    }
   ],
   "source": [
    "for i in information.find({'Location':'India'}):\n",
    "    print(i)"
   ]
  },
  {
   "cell_type": "code",
   "execution_count": 44,
   "metadata": {},
   "outputs": [
    {
     "name": "stdout",
     "output_type": "stream",
     "text": [
      "{'_id': ObjectId('5fe2e11b1fc67c555239c059'), 'First Name': 'Richard', 'Last Name': 'William', 'ID Number': 123, 'Job Title': 'Analitycs', 'Department': 'Data science', 'Location': 'USA', 'Salary': 22000}\n",
      "{'_id': ObjectId('5fe2e11b1fc67c555239c05c'), 'First Name': 'Harvey', 'Last Name': 'Carl', 'ID Number': 153, 'Job Title': 'Devloper', 'Department': 'Oracle', 'Location': 'Canada', 'Salary': 92000}\n",
      "{'_id': ObjectId('5fe2e11b1fc67c555239c05e'), 'First Name': 'Leo', 'Last Name': 'Walter', 'ID Number': 173, 'Job Title': 'Software', 'Department': 'Engineering', 'Location': 'Shrilanka', 'Salary': 82000}\n"
     ]
    }
   ],
   "source": [
    "for i in information.find({'Salary':{'$lt':100000}}):\n",
    "    print(i)"
   ]
  },
  {
   "cell_type": "code",
   "execution_count": 45,
   "metadata": {},
   "outputs": [
    {
     "name": "stdout",
     "output_type": "stream",
     "text": [
      "{'_id': ObjectId('5fe2e11b1fc67c555239c059'), 'First Name': 'Richard', 'Last Name': 'William', 'ID Number': 123, 'Job Title': 'Analitycs', 'Department': 'Data science', 'Location': 'USA', 'Salary': 22000}\n",
      "{'_id': ObjectId('5fe2e11b1fc67c555239c05e'), 'First Name': 'Leo', 'Last Name': 'Walter', 'ID Number': 173, 'Job Title': 'Software', 'Department': 'Engineering', 'Location': 'Shrilanka', 'Salary': 82000}\n"
     ]
    }
   ],
   "source": [
    "for i in information.find({'Salary':{'$lte':82000}}):\n",
    "    print(i)"
   ]
  },
  {
   "cell_type": "code",
   "execution_count": 47,
   "metadata": {},
   "outputs": [
    {
     "name": "stdout",
     "output_type": "stream",
     "text": [
      "{'_id': ObjectId('5fe2e11b1fc67c555239c059'), 'First Name': 'Richard', 'Last Name': 'William', 'ID Number': 123, 'Job Title': 'Analitycs', 'Department': 'Data science', 'Location': 'USA', 'Salary': 22000}\n",
      "{'_id': ObjectId('5fe2e11b1fc67c555239c05e'), 'First Name': 'Leo', 'Last Name': 'Walter', 'ID Number': 173, 'Job Title': 'Software', 'Department': 'Engineering', 'Location': 'Shrilanka', 'Salary': 82000}\n",
      "{'_id': ObjectId('5fe2e11b1fc67c555239c060'), 'First Name': 'Willie', 'Last Name': 'George', 'ID Number': 193, 'Job Title': 'Devloper', 'Department': 'Java', 'Location': 'South Africa', 'Salary': 242000}\n"
     ]
    }
   ],
   "source": [
    "for i in information.find({'Location':{'$in':['USA','Shrilanka','South Africa']}}):\n",
    "    print(i)"
   ]
  },
  {
   "cell_type": "markdown",
   "metadata": {},
   "source": [
    "#### And Opertor"
   ]
  },
  {
   "cell_type": "code",
   "execution_count": 49,
   "metadata": {},
   "outputs": [
    {
     "name": "stdout",
     "output_type": "stream",
     "text": [
      "{'_id': ObjectId('5fe2e11b1fc67c555239c061'), 'First Name': 'Dinesh', 'Last Name': 'Tyagi', 'ID Number': 111, 'Job Title': 'devloper', 'Department': 'Oracle', 'Location': 'India', 'Salary': 322000}\n"
     ]
    }
   ],
   "source": [
    "for i in information.find({'Location':'India','Salary':{'$lt':400000}}):\n",
    "    print(i)"
   ]
  },
  {
   "cell_type": "code",
   "execution_count": 51,
   "metadata": {},
   "outputs": [
    {
     "name": "stdout",
     "output_type": "stream",
     "text": [
      "{'_id': ObjectId('5fe2e11b1fc67c555239c05a'), 'First Name': 'Daniel', 'Last Name': 'Albert', 'ID Number': 133, 'Job Title': 'ABAP', 'Department': 'SAP', 'Location': 'Japan', 'Salary': 123000}\n"
     ]
    }
   ],
   "source": [
    "for i in information.find({'$and':[{'Department':'SAP'},{'Job Title':'ABAP'}]}):\n",
    "    print(i)"
   ]
  },
  {
   "cell_type": "markdown",
   "metadata": {},
   "source": [
    "#### OR Operator"
   ]
  },
  {
   "cell_type": "code",
   "execution_count": 50,
   "metadata": {},
   "outputs": [
    {
     "name": "stdout",
     "output_type": "stream",
     "text": [
      "{'_id': ObjectId('5fe2e11b1fc67c555239c05a'), 'First Name': 'Daniel', 'Last Name': 'Albert', 'ID Number': 133, 'Job Title': 'ABAP', 'Department': 'SAP', 'Location': 'Japan', 'Salary': 123000}\n",
      "{'_id': ObjectId('5fe2e11b1fc67c555239c05d'), 'First Name': 'Jim', 'Last Name': 'Henry', 'ID Number': 163, 'Job Title': 'HANA', 'Department': 'SAP', 'Location': 'New York', 'Salary': 456000}\n"
     ]
    }
   ],
   "source": [
    "for i in information.find({'$or':[{'Department':'SAP'},{'Job Title':'ABAP'}]}):\n",
    "    print(i)"
   ]
  },
  {
   "cell_type": "code",
   "execution_count": null,
   "metadata": {},
   "outputs": [],
   "source": []
  },
  {
   "cell_type": "markdown",
   "metadata": {},
   "source": [
    "### Update Operation in MongoDB"
   ]
  },
  {
   "cell_type": "markdown",
   "metadata": {},
   "source": [
    "#### .update_One"
   ]
  },
  {
   "cell_type": "code",
   "execution_count": 53,
   "metadata": {},
   "outputs": [
    {
     "data": {
      "text/plain": [
       "<pymongo.results.UpdateResult at 0x222dac8f400>"
      ]
     },
     "execution_count": 53,
     "metadata": {},
     "output_type": "execute_result"
    }
   ],
   "source": [
    "information.update_one({'ID Number':129},{'$set':{'Job Title':'Big Data Engineer','Department':'Big Data'}})\n",
    " "
   ]
  },
  {
   "cell_type": "code",
   "execution_count": 55,
   "metadata": {},
   "outputs": [
    {
     "name": "stdout",
     "output_type": "stream",
     "text": [
      "{'_id': ObjectId('5fe2e11b1fc67c555239c062'), 'First Name': 'Richard', 'Last Name': 'Lee', 'ID Number': 129, 'Job Title': 'Big Data Engineer', 'Department': 'Big Data', 'Location': 'Australia', 'Salary': 122000}\n"
     ]
    }
   ],
   "source": [
    " for i in information.find({'ID Number':129}):\n",
    "        print(i)"
   ]
  },
  {
   "cell_type": "markdown",
   "metadata": {},
   "source": [
    "#### .update_Many"
   ]
  },
  {
   "cell_type": "code",
   "execution_count": 56,
   "metadata": {},
   "outputs": [
    {
     "data": {
      "text/plain": [
       "<pymongo.results.UpdateResult at 0x222dac8be80>"
      ]
     },
     "execution_count": 56,
     "metadata": {},
     "output_type": "execute_result"
    }
   ],
   "source": [
    "information.update_many({'Department':'SAP'},{'$set':{'Salary':'840000','Location':'North India','Rating':4.3}})\n",
    " "
   ]
  },
  {
   "cell_type": "code",
   "execution_count": 58,
   "metadata": {},
   "outputs": [
    {
     "name": "stdout",
     "output_type": "stream",
     "text": [
      "{'_id': ObjectId('5fe2e11b1fc67c555239c05a'), 'First Name': 'Daniel', 'Last Name': 'Albert', 'ID Number': 133, 'Job Title': 'ABAP', 'Department': 'SAP', 'Location': 'North India', 'Salary': '840000', 'Rating': 4.3}\n",
      "{'_id': ObjectId('5fe2e11b1fc67c555239c05d'), 'First Name': 'Jim', 'Last Name': 'Henry', 'ID Number': 163, 'Job Title': 'HANA', 'Department': 'SAP', 'Location': 'North India', 'Salary': '840000', 'Rating': 4.3}\n"
     ]
    }
   ],
   "source": [
    "for i in information.find({'Department':'SAP'}):\n",
    "    print(i)"
   ]
  },
  {
   "cell_type": "markdown",
   "metadata": {},
   "source": [
    "### Delete Operation in MongoDB"
   ]
  },
  {
   "cell_type": "code",
   "execution_count": 18,
   "metadata": {},
   "outputs": [
    {
     "data": {
      "text/plain": [
       "<pymongo.results.DeleteResult at 0x222d83ce2c0>"
      ]
     },
     "execution_count": 18,
     "metadata": {},
     "output_type": "execute_result"
    }
   ],
   "source": [
    "information.delete_one({'firstname':'Balaprasad'})"
   ]
  },
  {
   "cell_type": "code",
   "execution_count": 19,
   "metadata": {
    "scrolled": true
   },
   "outputs": [
    {
     "data": {
      "text/plain": [
       "<pymongo.results.DeleteResult at 0x222dad5fa80>"
      ]
     },
     "execution_count": 19,
     "metadata": {},
     "output_type": "execute_result"
    }
   ],
   "source": [
    "information.delete_many({'firstname':'Balaprasad'})"
   ]
  },
  {
   "cell_type": "markdown",
   "metadata": {},
   "source": [
    "### MongoDb With Python- Aggregate Functions($group,$sum,$avg,$project)"
   ]
  },
  {
   "cell_type": "code",
   "execution_count": 59,
   "metadata": {},
   "outputs": [],
   "source": [
    "mydatabase=client['Students']"
   ]
  },
  {
   "cell_type": "code",
   "execution_count": 60,
   "metadata": {},
   "outputs": [],
   "source": [
    "studentinfo=mydatabase.Studentscores"
   ]
  },
  {
   "cell_type": "code",
   "execution_count": 73,
   "metadata": {},
   "outputs": [],
   "source": [
    "data=[{'Name':'Akash','Subject':'Oracle','Score':90},\n",
    "     {'Name':'Akash','Subject':'RDBMS','Score':85},\n",
    "     {'Name':'Akash','Subject':'Python','Score':60},\n",
    "     {'Name':'Omkar','Subject':'Python','Score':95},\n",
    "     {'Name':'Omkar','Subject':'Python','Score':95},\n",
    "     {'Name':'Omkar','Subject':'Java','Score':80}]"
   ]
  },
  {
   "cell_type": "code",
   "execution_count": 74,
   "metadata": {},
   "outputs": [
    {
     "data": {
      "text/plain": [
       "<pymongo.results.InsertManyResult at 0x222db041080>"
      ]
     },
     "execution_count": 74,
     "metadata": {},
     "output_type": "execute_result"
    }
   ],
   "source": [
    "studentinfo.insert_many(data)"
   ]
  },
  {
   "cell_type": "code",
   "execution_count": 75,
   "metadata": {},
   "outputs": [
    {
     "name": "stdout",
     "output_type": "stream",
     "text": [
      "{'_id': ObjectId('5fe2f6741fc67c555239c063'), 'Name': 'Ganesh', 'Subject': 'Java', 'Score': 80}\n",
      "{'_id': ObjectId('5fe2f6741fc67c555239c064'), 'Name': 'Akash', 'Subject': 'Oracle', 'Score': 90}\n",
      "{'_id': ObjectId('5fe2f6741fc67c555239c065'), 'Name': 'Sachin', 'Subject': 'RDBMS', 'Score': 85}\n",
      "{'_id': ObjectId('5fe2f6741fc67c555239c066'), 'Name': 'Shekar', 'Subject': 'C++', 'Score': 60}\n",
      "{'_id': ObjectId('5fe2f6741fc67c555239c067'), 'Name': 'Omkar', 'Subject': 'Python', 'Score': 95}\n",
      "{'_id': ObjectId('5fe2fc821fc67c555239c068'), 'Name': 'Akash', 'Subject': 'Oracle', 'Score': 90}\n",
      "{'_id': ObjectId('5fe2fc821fc67c555239c069'), 'Name': 'Akash', 'Subject': 'RDBMS', 'Score': 85}\n",
      "{'_id': ObjectId('5fe2fc821fc67c555239c06a'), 'Name': 'Akash', 'Subject': 'Python', 'Score': 60}\n",
      "{'_id': ObjectId('5fe2fc821fc67c555239c06b'), 'Name': 'Omkar', 'Subject': 'Python', 'Score': 95}\n",
      "{'_id': ObjectId('5fe2fc821fc67c555239c06c'), 'Name': 'Omkar', 'Subject': 'Python', 'Score': 95}\n",
      "{'_id': ObjectId('5fe2fc821fc67c555239c06d'), 'Name': 'Omkar', 'Subject': 'Java', 'Score': 80}\n"
     ]
    }
   ],
   "source": [
    "for i in studentinfo.find({}):\n",
    "    print(i)"
   ]
  },
  {
   "cell_type": "code",
   "execution_count": 77,
   "metadata": {},
   "outputs": [],
   "source": [
    "agg_result= studentinfo.aggregate( \n",
    "    [{ \n",
    "    \"$group\" :  \n",
    "        {\"_id\" : \"$Name\",  \n",
    "         \"Total Subject\" : {\"$sum\" : 1} \n",
    "         }} \n",
    "    ]) "
   ]
  },
  {
   "cell_type": "code",
   "execution_count": 78,
   "metadata": {},
   "outputs": [
    {
     "name": "stdout",
     "output_type": "stream",
     "text": [
      "{'_id': 'Akash', 'Total Subject': 4}\n",
      "{'_id': 'Omkar', 'Total Subject': 4}\n",
      "{'_id': 'Shekar', 'Total Subject': 1}\n",
      "{'_id': 'Ganesh', 'Total Subject': 1}\n",
      "{'_id': 'Sachin', 'Total Subject': 1}\n"
     ]
    }
   ],
   "source": [
    "for i in agg_result:\n",
    "    print(i)"
   ]
  },
  {
   "cell_type": "code",
   "execution_count": 86,
   "metadata": {},
   "outputs": [
    {
     "name": "stdout",
     "output_type": "stream",
     "text": [
      "{'_id': 'Ganesh', 'Total Marks': 80}\n",
      "{'_id': 'Sachin', 'Total Marks': 85}\n",
      "{'_id': 'Akash', 'Total Marks': 325}\n",
      "{'_id': 'Omkar', 'Total Marks': 365}\n",
      "{'_id': 'Shekar', 'Total Marks': 60}\n"
     ]
    }
   ],
   "source": [
    "### Calculating the total score based on user\n",
    "agg_result= studentinfo.aggregate( \n",
    "    [{ \n",
    "    \"$group\" :  \n",
    "        {\"_id\" : \"$Name\",  \n",
    "         \"Total Marks\" : {\"$sum\" :\"$Score\"} \n",
    "         }} \n",
    "    ]) \n",
    "for i in agg_result: \n",
    "    print(i)"
   ]
  },
  {
   "cell_type": "code",
   "execution_count": 88,
   "metadata": {},
   "outputs": [
    {
     "name": "stdout",
     "output_type": "stream",
     "text": [
      "{'_id': 'Ganesh', 'StudentScoreAverage': 80.0}\n",
      "{'_id': 'Sachin', 'StudentScoreAverage': 85.0}\n",
      "{'_id': 'Akash', 'StudentScoreAverage': 81.25}\n",
      "{'_id': 'Omkar', 'StudentScoreAverage': 91.25}\n",
      "{'_id': 'Shekar', 'StudentScoreAverage': 60.0}\n"
     ]
    }
   ],
   "source": [
    "### Calculating the average score based on user\n",
    "agg_result=studentinfo.aggregate([\n",
    "   {\n",
    "      \"$group\": {\n",
    "         \"_id\": '$Name',\n",
    "         \"StudentScoreAverage\": {\n",
    "            \"$avg\": \"$Score\"\n",
    "         }\n",
    "      }\n",
    "   }\n",
    "])\n",
    "for i in agg_result: \n",
    "    print(i)"
   ]
  },
  {
   "cell_type": "code",
   "execution_count": null,
   "metadata": {},
   "outputs": [],
   "source": []
  }
 ],
 "metadata": {
  "kernelspec": {
   "display_name": "Python 3",
   "language": "python",
   "name": "python3"
  },
  "language_info": {
   "codemirror_mode": {
    "name": "ipython",
    "version": 3
   },
   "file_extension": ".py",
   "mimetype": "text/x-python",
   "name": "python",
   "nbconvert_exporter": "python",
   "pygments_lexer": "ipython3",
   "version": "3.8.5"
  }
 },
 "nbformat": 4,
 "nbformat_minor": 4
}
